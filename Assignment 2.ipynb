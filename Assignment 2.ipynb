{
 "cells": [
  {
   "cell_type": "code",
   "execution_count": 4,
   "id": "68acf42d",
   "metadata": {},
   "outputs": [
    {
     "name": "stdout",
     "output_type": "stream",
     "text": [
      "2 5\n",
      "1 2\n",
      "4 4\n",
      "2 3\n",
      "2 1\n",
      "given input is  [(2, 5), (1, 2), (4, 4), (2, 3), (2, 1)]\n",
      "Sorted output is [(2, 1), (1, 2), (2, 3), (4, 4), (2, 5)]\n"
     ]
    }
   ],
   "source": [
    "x=[tuple([int(x) for x in input().split()]) for i in range (5)]\n",
    "print (\"given input is \",x)\n",
    "m=len(x)\n",
    "x1=[]\n",
    "while len(x1)<m:\n",
    "    small=x[0]\n",
    "    for i in range (1,len(x)):\n",
    "        if x[i][1]<small[1]:\n",
    "            small=x[i]\n",
    "    x1.append(small)\n",
    "    x.remove(small)\n",
    "print(\"Sorted output is\",x1)"
   ]
  },
  {
   "cell_type": "code",
   "execution_count": 5,
   "id": "a7ec8723",
   "metadata": {},
   "outputs": [
    {
     "name": "stdout",
     "output_type": "stream",
     "text": [
      "{'a': 97, 'b': 98, 'c': 99, 'd': 100, 'e': 101, 'f': 102, 'g': 103, 'h': 104, 'i': 105, 'j': 106, 'k': 107, 'l': 108, 'm': 109, 'n': 110, 'o': 111, 'p': 112, 'q': 113, 'r': 114, 's': 115, 't': 116, 'u': 117, 'v': 118, 'w': 119, 'x': 120, 'y': 121, 'z': 122}\n"
     ]
    }
   ],
   "source": [
    "# ASCII\n",
    "x={}\n",
    "for i in range(97,123):\n",
    "    x[chr(i)]=i\n",
    "print(x)"
   ]
  },
  {
   "cell_type": "code",
   "execution_count": null,
   "id": "e55bd4be",
   "metadata": {},
   "outputs": [],
   "source": []
  }
 ],
 "metadata": {
  "kernelspec": {
   "display_name": "Python 3 (ipykernel)",
   "language": "python",
   "name": "python3"
  },
  "language_info": {
   "codemirror_mode": {
    "name": "ipython",
    "version": 3
   },
   "file_extension": ".py",
   "mimetype": "text/x-python",
   "name": "python",
   "nbconvert_exporter": "python",
   "pygments_lexer": "ipython3",
   "version": "3.9.12"
  }
 },
 "nbformat": 4,
 "nbformat_minor": 5
}
